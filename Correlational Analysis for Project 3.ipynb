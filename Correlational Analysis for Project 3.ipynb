{
 "cells": [
  {
   "cell_type": "code",
   "execution_count": 1,
   "id": "de243385",
   "metadata": {},
   "outputs": [],
   "source": [
    "import pandas as pd\n",
    "import numpy as np\n",
    "from scipy import stats"
   ]
  },
  {
   "cell_type": "code",
   "execution_count": 4,
   "id": "7fec07ef",
   "metadata": {},
   "outputs": [],
   "source": [
    "data = pd.read_csv('national_gp.csv')"
   ]
  },
  {
   "cell_type": "code",
   "execution_count": 5,
   "id": "b395afcf",
   "metadata": {},
   "outputs": [
    {
     "data": {
      "text/html": [
       "<div>\n",
       "<style scoped>\n",
       "    .dataframe tbody tr th:only-of-type {\n",
       "        vertical-align: middle;\n",
       "    }\n",
       "\n",
       "    .dataframe tbody tr th {\n",
       "        vertical-align: top;\n",
       "    }\n",
       "\n",
       "    .dataframe thead th {\n",
       "        text-align: right;\n",
       "    }\n",
       "</style>\n",
       "<table border=\"1\" class=\"dataframe\">\n",
       "  <thead>\n",
       "    <tr style=\"text-align: right;\">\n",
       "      <th></th>\n",
       "      <th>gp_practice</th>\n",
       "      <th>latitude</th>\n",
       "      <th>longitude</th>\n",
       "      <th>asthma_percentage</th>\n",
       "      <th>aqi</th>\n",
       "      <th>co</th>\n",
       "      <th>no</th>\n",
       "      <th>no2</th>\n",
       "      <th>o3</th>\n",
       "      <th>so2</th>\n",
       "      <th>pm2_5</th>\n",
       "      <th>pm10</th>\n",
       "      <th>nh3</th>\n",
       "    </tr>\n",
       "  </thead>\n",
       "  <tbody>\n",
       "    <tr>\n",
       "      <th>0</th>\n",
       "      <td>NHS Barnsley CCG</td>\n",
       "      <td>53.558921</td>\n",
       "      <td>-1.496626</td>\n",
       "      <td>6.6</td>\n",
       "      <td>1.27</td>\n",
       "      <td>231.93</td>\n",
       "      <td>1.15</td>\n",
       "      <td>11.38</td>\n",
       "      <td>52.85</td>\n",
       "      <td>2.58</td>\n",
       "      <td>3.59</td>\n",
       "      <td>4.81</td>\n",
       "      <td>1.25</td>\n",
       "    </tr>\n",
       "    <tr>\n",
       "      <th>1</th>\n",
       "      <td>NHS Basildon And Brentwood CCG</td>\n",
       "      <td>51.591158</td>\n",
       "      <td>0.495369</td>\n",
       "      <td>6.2</td>\n",
       "      <td>1.42</td>\n",
       "      <td>239.92</td>\n",
       "      <td>2.26</td>\n",
       "      <td>13.97</td>\n",
       "      <td>51.42</td>\n",
       "      <td>4.38</td>\n",
       "      <td>5.77</td>\n",
       "      <td>7.43</td>\n",
       "      <td>0.52</td>\n",
       "    </tr>\n",
       "    <tr>\n",
       "      <th>2</th>\n",
       "      <td>NHS Bassetlaw CCG</td>\n",
       "      <td>53.326042</td>\n",
       "      <td>-0.954687</td>\n",
       "      <td>6.4</td>\n",
       "      <td>1.29</td>\n",
       "      <td>233.11</td>\n",
       "      <td>0.64</td>\n",
       "      <td>10.13</td>\n",
       "      <td>54.02</td>\n",
       "      <td>1.81</td>\n",
       "      <td>3.74</td>\n",
       "      <td>5.17</td>\n",
       "      <td>1.97</td>\n",
       "    </tr>\n",
       "    <tr>\n",
       "      <th>3</th>\n",
       "      <td>NHS Bath and North East Somerset, Swindon and ...</td>\n",
       "      <td>51.357787</td>\n",
       "      <td>-2.372918</td>\n",
       "      <td>6.9</td>\n",
       "      <td>1.34</td>\n",
       "      <td>226.67</td>\n",
       "      <td>0.39</td>\n",
       "      <td>7.60</td>\n",
       "      <td>56.45</td>\n",
       "      <td>1.15</td>\n",
       "      <td>4.53</td>\n",
       "      <td>5.85</td>\n",
       "      <td>1.69</td>\n",
       "    </tr>\n",
       "    <tr>\n",
       "      <th>4</th>\n",
       "      <td>NHS Bedfordshire, Luton and Milton Keynes CCG</td>\n",
       "      <td>51.879624</td>\n",
       "      <td>-0.414266</td>\n",
       "      <td>6.2</td>\n",
       "      <td>1.34</td>\n",
       "      <td>233.05</td>\n",
       "      <td>1.29</td>\n",
       "      <td>11.76</td>\n",
       "      <td>51.54</td>\n",
       "      <td>2.58</td>\n",
       "      <td>4.95</td>\n",
       "      <td>6.45</td>\n",
       "      <td>0.70</td>\n",
       "    </tr>\n",
       "    <tr>\n",
       "      <th>...</th>\n",
       "      <td>...</td>\n",
       "      <td>...</td>\n",
       "      <td>...</td>\n",
       "      <td>...</td>\n",
       "      <td>...</td>\n",
       "      <td>...</td>\n",
       "      <td>...</td>\n",
       "      <td>...</td>\n",
       "      <td>...</td>\n",
       "      <td>...</td>\n",
       "      <td>...</td>\n",
       "      <td>...</td>\n",
       "      <td>...</td>\n",
       "    </tr>\n",
       "    <tr>\n",
       "      <th>101</th>\n",
       "      <td>NHS West Leicestershire CCG</td>\n",
       "      <td>52.769765</td>\n",
       "      <td>-1.205220</td>\n",
       "      <td>6.8</td>\n",
       "      <td>1.30</td>\n",
       "      <td>230.42</td>\n",
       "      <td>0.75</td>\n",
       "      <td>9.74</td>\n",
       "      <td>54.16</td>\n",
       "      <td>2.04</td>\n",
       "      <td>4.08</td>\n",
       "      <td>5.45</td>\n",
       "      <td>1.68</td>\n",
       "    </tr>\n",
       "    <tr>\n",
       "      <th>102</th>\n",
       "      <td>NHS West Suffolk CCG</td>\n",
       "      <td>52.251444</td>\n",
       "      <td>0.696794</td>\n",
       "      <td>7.4</td>\n",
       "      <td>1.37</td>\n",
       "      <td>228.69</td>\n",
       "      <td>0.20</td>\n",
       "      <td>6.89</td>\n",
       "      <td>56.91</td>\n",
       "      <td>1.08</td>\n",
       "      <td>5.05</td>\n",
       "      <td>6.66</td>\n",
       "      <td>1.68</td>\n",
       "    </tr>\n",
       "    <tr>\n",
       "      <th>103</th>\n",
       "      <td>NHS West Sussex CCG</td>\n",
       "      <td>50.815480</td>\n",
       "      <td>-0.367546</td>\n",
       "      <td>6.9</td>\n",
       "      <td>1.49</td>\n",
       "      <td>232.34</td>\n",
       "      <td>0.67</td>\n",
       "      <td>11.29</td>\n",
       "      <td>62.17</td>\n",
       "      <td>3.45</td>\n",
       "      <td>6.27</td>\n",
       "      <td>8.16</td>\n",
       "      <td>0.55</td>\n",
       "    </tr>\n",
       "    <tr>\n",
       "      <th>104</th>\n",
       "      <td>NHS Wigan Borough CCG</td>\n",
       "      <td>53.544953</td>\n",
       "      <td>-2.629185</td>\n",
       "      <td>7.6</td>\n",
       "      <td>1.28</td>\n",
       "      <td>232.62</td>\n",
       "      <td>2.24</td>\n",
       "      <td>14.06</td>\n",
       "      <td>49.63</td>\n",
       "      <td>3.20</td>\n",
       "      <td>3.88</td>\n",
       "      <td>5.00</td>\n",
       "      <td>1.40</td>\n",
       "    </tr>\n",
       "    <tr>\n",
       "      <th>105</th>\n",
       "      <td>NHS Wirral CCG</td>\n",
       "      <td>53.390911</td>\n",
       "      <td>-3.016387</td>\n",
       "      <td>7.5</td>\n",
       "      <td>1.31</td>\n",
       "      <td>230.54</td>\n",
       "      <td>2.09</td>\n",
       "      <td>11.73</td>\n",
       "      <td>54.74</td>\n",
       "      <td>3.39</td>\n",
       "      <td>3.58</td>\n",
       "      <td>4.71</td>\n",
       "      <td>0.77</td>\n",
       "    </tr>\n",
       "  </tbody>\n",
       "</table>\n",
       "<p>106 rows × 13 columns</p>\n",
       "</div>"
      ],
      "text/plain": [
       "                                           gp_practice   latitude  longitude  \\\n",
       "0                                     NHS Barnsley CCG  53.558921  -1.496626   \n",
       "1                       NHS Basildon And Brentwood CCG  51.591158   0.495369   \n",
       "2                                    NHS Bassetlaw CCG  53.326042  -0.954687   \n",
       "3    NHS Bath and North East Somerset, Swindon and ...  51.357787  -2.372918   \n",
       "4        NHS Bedfordshire, Luton and Milton Keynes CCG  51.879624  -0.414266   \n",
       "..                                                 ...        ...        ...   \n",
       "101                        NHS West Leicestershire CCG  52.769765  -1.205220   \n",
       "102                               NHS West Suffolk CCG  52.251444   0.696794   \n",
       "103                                NHS West Sussex CCG  50.815480  -0.367546   \n",
       "104                              NHS Wigan Borough CCG  53.544953  -2.629185   \n",
       "105                                     NHS Wirral CCG  53.390911  -3.016387   \n",
       "\n",
       "     asthma_percentage   aqi      co    no    no2     o3   so2  pm2_5  pm10  \\\n",
       "0                  6.6  1.27  231.93  1.15  11.38  52.85  2.58   3.59  4.81   \n",
       "1                  6.2  1.42  239.92  2.26  13.97  51.42  4.38   5.77  7.43   \n",
       "2                  6.4  1.29  233.11  0.64  10.13  54.02  1.81   3.74  5.17   \n",
       "3                  6.9  1.34  226.67  0.39   7.60  56.45  1.15   4.53  5.85   \n",
       "4                  6.2  1.34  233.05  1.29  11.76  51.54  2.58   4.95  6.45   \n",
       "..                 ...   ...     ...   ...    ...    ...   ...    ...   ...   \n",
       "101                6.8  1.30  230.42  0.75   9.74  54.16  2.04   4.08  5.45   \n",
       "102                7.4  1.37  228.69  0.20   6.89  56.91  1.08   5.05  6.66   \n",
       "103                6.9  1.49  232.34  0.67  11.29  62.17  3.45   6.27  8.16   \n",
       "104                7.6  1.28  232.62  2.24  14.06  49.63  3.20   3.88  5.00   \n",
       "105                7.5  1.31  230.54  2.09  11.73  54.74  3.39   3.58  4.71   \n",
       "\n",
       "      nh3  \n",
       "0    1.25  \n",
       "1    0.52  \n",
       "2    1.97  \n",
       "3    1.69  \n",
       "4    0.70  \n",
       "..    ...  \n",
       "101  1.68  \n",
       "102  1.68  \n",
       "103  0.55  \n",
       "104  1.40  \n",
       "105  0.77  \n",
       "\n",
       "[106 rows x 13 columns]"
      ]
     },
     "execution_count": 5,
     "metadata": {},
     "output_type": "execute_result"
    }
   ],
   "source": [
    "data"
   ]
  },
  {
   "cell_type": "markdown",
   "id": "90df84c7",
   "metadata": {},
   "source": [
    "# Correlation between asthma percentage and respective gas pollutants."
   ]
  },
  {
   "cell_type": "code",
   "execution_count": 6,
   "id": "e8682789",
   "metadata": {},
   "outputs": [
    {
     "data": {
      "text/plain": [
       "Ttest_indResult(statistic=-76.80916140153157, pvalue=1.1198684334677411e-155)"
      ]
     },
     "execution_count": 6,
     "metadata": {},
     "output_type": "execute_result"
    }
   ],
   "source": [
    "# correlation betwwen asthma percentage and aqi\n",
    "stats.ttest_ind(data['aqi'] , data['asthma_percentage']) "
   ]
  },
  {
   "cell_type": "code",
   "execution_count": 7,
   "id": "6d39c8aa",
   "metadata": {},
   "outputs": [
    {
     "data": {
      "text/plain": [
       "Ttest_indResult(statistic=284.91640981758155, pvalue=9.234508867091367e-274)"
      ]
     },
     "execution_count": 7,
     "metadata": {},
     "output_type": "execute_result"
    }
   ],
   "source": [
    "# correlation betwwen asthma percentage and co\n",
    "stats.ttest_ind(data['co'] , data['asthma_percentage']) "
   ]
  },
  {
   "cell_type": "code",
   "execution_count": 8,
   "id": "5b13122a",
   "metadata": {},
   "outputs": [
    {
     "data": {
      "text/plain": [
       "Ttest_indResult(statistic=-32.752890571708804, pvalue=1.806271524244558e-84)"
      ]
     },
     "execution_count": 8,
     "metadata": {},
     "output_type": "execute_result"
    }
   ],
   "source": [
    "# correlation betwwen asthma percentage and no\n",
    "stats.ttest_ind(data['no'] , data['asthma_percentage']) "
   ]
  },
  {
   "cell_type": "code",
   "execution_count": 9,
   "id": "fc63b53b",
   "metadata": {},
   "outputs": [
    {
     "data": {
      "text/plain": [
       "Ttest_indResult(statistic=10.956452743745846, pvalue=2.1848330941898914e-22)"
      ]
     },
     "execution_count": 9,
     "metadata": {},
     "output_type": "execute_result"
    }
   ],
   "source": [
    "# correlation betwwen asthma percentage and no2\n",
    "stats.ttest_ind(data['no2'] , data['asthma_percentage']) "
   ]
  },
  {
   "cell_type": "code",
   "execution_count": 10,
   "id": "f07a0b07",
   "metadata": {},
   "outputs": [
    {
     "data": {
      "text/plain": [
       "Ttest_indResult(statistic=123.62631128712525, pvalue=4.080155484473958e-198)"
      ]
     },
     "execution_count": 10,
     "metadata": {},
     "output_type": "execute_result"
    }
   ],
   "source": [
    "# correlation betwwen asthma percentage and o3\n",
    "stats.ttest_ind(data['o3'] , data['asthma_percentage']) "
   ]
  },
  {
   "cell_type": "code",
   "execution_count": 11,
   "id": "2870076e",
   "metadata": {},
   "outputs": [
    {
     "data": {
      "text/plain": [
       "Ttest_indResult(statistic=-22.467443913226898, pvalue=9.110439170371109e-58)"
      ]
     },
     "execution_count": 11,
     "metadata": {},
     "output_type": "execute_result"
    }
   ],
   "source": [
    "# correlation betwwen asthma percentage and o3\n",
    "stats.ttest_ind(data['so2'] , data['asthma_percentage']) "
   ]
  },
  {
   "cell_type": "code",
   "execution_count": 12,
   "id": "ffde4a8f",
   "metadata": {},
   "outputs": [
    {
     "data": {
      "text/plain": [
       "Ttest_indResult(statistic=-20.475321332185555, pvalue=6.093550936298744e-52)"
      ]
     },
     "execution_count": 12,
     "metadata": {},
     "output_type": "execute_result"
    }
   ],
   "source": [
    "# correlation betwwen asthma percentage and o3\n",
    "stats.ttest_ind(data['pm2_5'] , data['asthma_percentage']) "
   ]
  },
  {
   "cell_type": "code",
   "execution_count": 13,
   "id": "21a1c158",
   "metadata": {},
   "outputs": [
    {
     "data": {
      "text/plain": [
       "Ttest_indResult(statistic=-8.017962721151841, pvalue=7.417458859042594e-14)"
      ]
     },
     "execution_count": 13,
     "metadata": {},
     "output_type": "execute_result"
    }
   ],
   "source": [
    "# correlation betwwen asthma percentage and o3\n",
    "stats.ttest_ind(data['pm10'] , data['asthma_percentage']) "
   ]
  },
  {
   "cell_type": "code",
   "execution_count": 14,
   "id": "20125bc5",
   "metadata": {},
   "outputs": [
    {
     "data": {
      "text/plain": [
       "Ttest_indResult(statistic=-57.68063954489514, pvalue=9.530056908107471e-131)"
      ]
     },
     "execution_count": 14,
     "metadata": {},
     "output_type": "execute_result"
    }
   ],
   "source": [
    "# correlation betwwen asthma percentage and o3\n",
    "stats.ttest_ind(data['nh3'] , data['asthma_percentage']) "
   ]
  },
  {
   "cell_type": "code",
   "execution_count": null,
   "id": "dfc08f37",
   "metadata": {},
   "outputs": [],
   "source": []
  }
 ],
 "metadata": {
  "kernelspec": {
   "display_name": "Python 3 (ipykernel)",
   "language": "python",
   "name": "python3"
  },
  "language_info": {
   "codemirror_mode": {
    "name": "ipython",
    "version": 3
   },
   "file_extension": ".py",
   "mimetype": "text/x-python",
   "name": "python",
   "nbconvert_exporter": "python",
   "pygments_lexer": "ipython3",
   "version": "3.9.12"
  }
 },
 "nbformat": 4,
 "nbformat_minor": 5
}
