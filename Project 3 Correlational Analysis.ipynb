{
 "cells": [
  {
   "cell_type": "code",
   "execution_count": 2,
   "id": "5072acf1",
   "metadata": {},
   "outputs": [],
   "source": [
    "from scipy import stats\n",
    "import numpy as np\n",
    "import pandas as pd"
   ]
  },
  {
   "cell_type": "code",
   "execution_count": 19,
   "id": "c697c4d5",
   "metadata": {},
   "outputs": [],
   "source": [
    "data = pd.read_csv('gp_practice.csv')"
   ]
  },
  {
   "cell_type": "code",
   "execution_count": 20,
   "id": "7e8987fb",
   "metadata": {},
   "outputs": [
    {
     "data": {
      "text/html": [
       "<div>\n",
       "<style scoped>\n",
       "    .dataframe tbody tr th:only-of-type {\n",
       "        vertical-align: middle;\n",
       "    }\n",
       "\n",
       "    .dataframe tbody tr th {\n",
       "        vertical-align: top;\n",
       "    }\n",
       "\n",
       "    .dataframe thead th {\n",
       "        text-align: right;\n",
       "    }\n",
       "</style>\n",
       "<table border=\"1\" class=\"dataframe\">\n",
       "  <thead>\n",
       "    <tr style=\"text-align: right;\">\n",
       "      <th></th>\n",
       "      <th>gp_practice</th>\n",
       "      <th>latitude</th>\n",
       "      <th>longitude</th>\n",
       "      <th>asthma_percentage</th>\n",
       "      <th>aqi</th>\n",
       "      <th>co</th>\n",
       "      <th>no</th>\n",
       "      <th>no2</th>\n",
       "      <th>o3</th>\n",
       "      <th>so2</th>\n",
       "      <th>pm2_5</th>\n",
       "      <th>pm10</th>\n",
       "      <th>nh3</th>\n",
       "    </tr>\n",
       "  </thead>\n",
       "  <tbody>\n",
       "    <tr>\n",
       "      <th>0</th>\n",
       "      <td>Acocks Green Medical Centre</td>\n",
       "      <td>52.450071</td>\n",
       "      <td>-1.830179</td>\n",
       "      <td>6.8472</td>\n",
       "      <td>1.308379</td>\n",
       "      <td>234.778617</td>\n",
       "      <td>1.844437</td>\n",
       "      <td>13.209478</td>\n",
       "      <td>49.760875</td>\n",
       "      <td>3.203526</td>\n",
       "      <td>4.426282</td>\n",
       "      <td>5.756181</td>\n",
       "      <td>1.349473</td>\n",
       "    </tr>\n",
       "    <tr>\n",
       "      <th>1</th>\n",
       "      <td>Alpha Medical Practice</td>\n",
       "      <td>52.491212</td>\n",
       "      <td>-1.856640</td>\n",
       "      <td>7.9489</td>\n",
       "      <td>1.308379</td>\n",
       "      <td>234.778617</td>\n",
       "      <td>1.844437</td>\n",
       "      <td>13.209478</td>\n",
       "      <td>49.760875</td>\n",
       "      <td>3.203526</td>\n",
       "      <td>4.426282</td>\n",
       "      <td>5.756181</td>\n",
       "      <td>1.349473</td>\n",
       "    </tr>\n",
       "    <tr>\n",
       "      <th>2</th>\n",
       "      <td>Al-Shafa Medical Centre</td>\n",
       "      <td>52.505640</td>\n",
       "      <td>-1.892110</td>\n",
       "      <td>6.5450</td>\n",
       "      <td>1.318567</td>\n",
       "      <td>235.792468</td>\n",
       "      <td>2.215201</td>\n",
       "      <td>12.828526</td>\n",
       "      <td>51.746223</td>\n",
       "      <td>3.257097</td>\n",
       "      <td>4.289263</td>\n",
       "      <td>5.570627</td>\n",
       "      <td>1.402587</td>\n",
       "    </tr>\n",
       "    <tr>\n",
       "      <th>3</th>\n",
       "      <td>Alum Rock Medical Centre</td>\n",
       "      <td>52.489892</td>\n",
       "      <td>-1.850755</td>\n",
       "      <td>7.4716</td>\n",
       "      <td>1.308379</td>\n",
       "      <td>234.778617</td>\n",
       "      <td>1.844437</td>\n",
       "      <td>13.209478</td>\n",
       "      <td>49.760875</td>\n",
       "      <td>3.203526</td>\n",
       "      <td>4.426282</td>\n",
       "      <td>5.756181</td>\n",
       "      <td>1.349473</td>\n",
       "    </tr>\n",
       "    <tr>\n",
       "      <th>4</th>\n",
       "      <td>Amaanah Medical Practice</td>\n",
       "      <td>52.490727</td>\n",
       "      <td>-1.852115</td>\n",
       "      <td>6.4019</td>\n",
       "      <td>1.308379</td>\n",
       "      <td>234.778617</td>\n",
       "      <td>1.844437</td>\n",
       "      <td>13.209478</td>\n",
       "      <td>49.760875</td>\n",
       "      <td>3.203526</td>\n",
       "      <td>4.426282</td>\n",
       "      <td>5.756181</td>\n",
       "      <td>1.349473</td>\n",
       "    </tr>\n",
       "    <tr>\n",
       "      <th>...</th>\n",
       "      <td>...</td>\n",
       "      <td>...</td>\n",
       "      <td>...</td>\n",
       "      <td>...</td>\n",
       "      <td>...</td>\n",
       "      <td>...</td>\n",
       "      <td>...</td>\n",
       "      <td>...</td>\n",
       "      <td>...</td>\n",
       "      <td>...</td>\n",
       "      <td>...</td>\n",
       "      <td>...</td>\n",
       "      <td>...</td>\n",
       "    </tr>\n",
       "    <tr>\n",
       "      <th>154</th>\n",
       "      <td>Woodland Road Surgery</td>\n",
       "      <td>52.410585</td>\n",
       "      <td>-1.961243</td>\n",
       "      <td>7.2904</td>\n",
       "      <td>1.303342</td>\n",
       "      <td>234.702610</td>\n",
       "      <td>2.070627</td>\n",
       "      <td>12.904075</td>\n",
       "      <td>49.847642</td>\n",
       "      <td>3.252404</td>\n",
       "      <td>4.359203</td>\n",
       "      <td>5.699176</td>\n",
       "      <td>1.397436</td>\n",
       "    </tr>\n",
       "    <tr>\n",
       "      <th>155</th>\n",
       "      <td>Wychall Lane Surgery</td>\n",
       "      <td>52.410103</td>\n",
       "      <td>-1.935609</td>\n",
       "      <td>7.4217</td>\n",
       "      <td>1.303342</td>\n",
       "      <td>234.702610</td>\n",
       "      <td>2.070627</td>\n",
       "      <td>12.904075</td>\n",
       "      <td>49.847642</td>\n",
       "      <td>3.252404</td>\n",
       "      <td>4.359203</td>\n",
       "      <td>5.699176</td>\n",
       "      <td>1.397436</td>\n",
       "    </tr>\n",
       "    <tr>\n",
       "      <th>156</th>\n",
       "      <td>Yardley Green Medical Centre</td>\n",
       "      <td>52.475873</td>\n",
       "      <td>-1.839050</td>\n",
       "      <td>7.8828</td>\n",
       "      <td>1.308379</td>\n",
       "      <td>234.778617</td>\n",
       "      <td>1.844437</td>\n",
       "      <td>13.209478</td>\n",
       "      <td>49.760875</td>\n",
       "      <td>3.203526</td>\n",
       "      <td>4.426282</td>\n",
       "      <td>5.756181</td>\n",
       "      <td>1.349473</td>\n",
       "    </tr>\n",
       "    <tr>\n",
       "      <th>157</th>\n",
       "      <td>Yardley Medical Centre</td>\n",
       "      <td>52.463084</td>\n",
       "      <td>-1.828371</td>\n",
       "      <td>4.0701</td>\n",
       "      <td>1.308379</td>\n",
       "      <td>234.778617</td>\n",
       "      <td>1.844437</td>\n",
       "      <td>13.209478</td>\n",
       "      <td>49.760875</td>\n",
       "      <td>3.203526</td>\n",
       "      <td>4.426282</td>\n",
       "      <td>5.756181</td>\n",
       "      <td>1.349473</td>\n",
       "    </tr>\n",
       "    <tr>\n",
       "      <th>158</th>\n",
       "      <td>Yardley Wood Health Centre</td>\n",
       "      <td>52.418981</td>\n",
       "      <td>-1.859604</td>\n",
       "      <td>8.8968</td>\n",
       "      <td>1.308379</td>\n",
       "      <td>234.778617</td>\n",
       "      <td>1.844437</td>\n",
       "      <td>13.209478</td>\n",
       "      <td>49.760875</td>\n",
       "      <td>3.203526</td>\n",
       "      <td>4.426282</td>\n",
       "      <td>5.756181</td>\n",
       "      <td>1.349473</td>\n",
       "    </tr>\n",
       "  </tbody>\n",
       "</table>\n",
       "<p>159 rows × 13 columns</p>\n",
       "</div>"
      ],
      "text/plain": [
       "                      gp_practice   latitude  longitude  asthma_percentage  \\\n",
       "0     Acocks Green Medical Centre  52.450071  -1.830179             6.8472   \n",
       "1          Alpha Medical Practice  52.491212  -1.856640             7.9489   \n",
       "2         Al-Shafa Medical Centre  52.505640  -1.892110             6.5450   \n",
       "3        Alum Rock Medical Centre  52.489892  -1.850755             7.4716   \n",
       "4        Amaanah Medical Practice  52.490727  -1.852115             6.4019   \n",
       "..                            ...        ...        ...                ...   \n",
       "154         Woodland Road Surgery  52.410585  -1.961243             7.2904   \n",
       "155          Wychall Lane Surgery  52.410103  -1.935609             7.4217   \n",
       "156  Yardley Green Medical Centre  52.475873  -1.839050             7.8828   \n",
       "157        Yardley Medical Centre  52.463084  -1.828371             4.0701   \n",
       "158    Yardley Wood Health Centre  52.418981  -1.859604             8.8968   \n",
       "\n",
       "          aqi          co        no        no2         o3       so2     pm2_5  \\\n",
       "0    1.308379  234.778617  1.844437  13.209478  49.760875  3.203526  4.426282   \n",
       "1    1.308379  234.778617  1.844437  13.209478  49.760875  3.203526  4.426282   \n",
       "2    1.318567  235.792468  2.215201  12.828526  51.746223  3.257097  4.289263   \n",
       "3    1.308379  234.778617  1.844437  13.209478  49.760875  3.203526  4.426282   \n",
       "4    1.308379  234.778617  1.844437  13.209478  49.760875  3.203526  4.426282   \n",
       "..        ...         ...       ...        ...        ...       ...       ...   \n",
       "154  1.303342  234.702610  2.070627  12.904075  49.847642  3.252404  4.359203   \n",
       "155  1.303342  234.702610  2.070627  12.904075  49.847642  3.252404  4.359203   \n",
       "156  1.308379  234.778617  1.844437  13.209478  49.760875  3.203526  4.426282   \n",
       "157  1.308379  234.778617  1.844437  13.209478  49.760875  3.203526  4.426282   \n",
       "158  1.308379  234.778617  1.844437  13.209478  49.760875  3.203526  4.426282   \n",
       "\n",
       "         pm10       nh3  \n",
       "0    5.756181  1.349473  \n",
       "1    5.756181  1.349473  \n",
       "2    5.570627  1.402587  \n",
       "3    5.756181  1.349473  \n",
       "4    5.756181  1.349473  \n",
       "..        ...       ...  \n",
       "154  5.699176  1.397436  \n",
       "155  5.699176  1.397436  \n",
       "156  5.756181  1.349473  \n",
       "157  5.756181  1.349473  \n",
       "158  5.756181  1.349473  \n",
       "\n",
       "[159 rows x 13 columns]"
      ]
     },
     "execution_count": 20,
     "metadata": {},
     "output_type": "execute_result"
    }
   ],
   "source": [
    "data"
   ]
  },
  {
   "cell_type": "code",
   "execution_count": 26,
   "id": "1e0c9614",
   "metadata": {},
   "outputs": [
    {
     "data": {
      "text/plain": [
       "Ttest_indResult(statistic=-76.81766177783149, pvalue=1.0950138065315352e-155)"
      ]
     },
     "execution_count": 26,
     "metadata": {},
     "output_type": "execute_result"
    }
   ],
   "source": [
    "# correlation betwwen asthma percentage and respective gas pollutants.\n",
    "stats.ttest_ind(data['aqi'] , data['asthma_percentage']) "
   ]
  },
  {
   "cell_type": "code",
   "execution_count": 25,
   "id": "1a0566ff",
   "metadata": {},
   "outputs": [
    {
     "data": {
      "text/plain": [
       "Ttest_indResult(statistic=284.9232633403105, pvalue=9.188098613832914e-274)"
      ]
     },
     "execution_count": 25,
     "metadata": {},
     "output_type": "execute_result"
    }
   ],
   "source": [
    "# correlation betwwen asthma percentage and respective gas pollutants.\n",
    "stats.ttest_ind(data['co'] , data['asthma_percentage']) "
   ]
  },
  {
   "cell_type": "code",
   "execution_count": 27,
   "id": "1069c350",
   "metadata": {},
   "outputs": [
    {
     "data": {
      "text/plain": [
       "Ttest_indResult(statistic=-32.750565070491476, pvalue=1.8289570817372045e-84)"
      ]
     },
     "execution_count": 27,
     "metadata": {},
     "output_type": "execute_result"
    }
   ],
   "source": [
    "# correlation betwwen asthma percentage and respective gas pollutants.\n",
    "stats.ttest_ind(data['no'] , data['asthma_percentage']) "
   ]
  },
  {
   "cell_type": "code",
   "execution_count": 28,
   "id": "e20cb658",
   "metadata": {},
   "outputs": [
    {
     "data": {
      "text/plain": [
       "Ttest_indResult(statistic=124.58807305685207, pvalue=8.191651777647355e-199)"
      ]
     },
     "execution_count": 28,
     "metadata": {},
     "output_type": "execute_result"
    }
   ],
   "source": [
    "# correlation betwwen asthma percentage and respective gas pollutants.\n",
    "stats.ttest_ind(data['o3'] , data['asthma_percentage']) "
   ]
  },
  {
   "cell_type": "code",
   "execution_count": 31,
   "id": "e61a5853",
   "metadata": {},
   "outputs": [
    {
     "data": {
      "text/plain": [
       "Ttest_indResult(statistic=-22.457139787403744, pvalue=9.753009521165639e-58)"
      ]
     },
     "execution_count": 31,
     "metadata": {},
     "output_type": "execute_result"
    }
   ],
   "source": [
    "# correlation betwwen asthma percentage and respective gas pollutants.\n",
    "stats.ttest_ind(data['so2'] , data['asthma_percentage']) "
   ]
  },
  {
   "cell_type": "code",
   "execution_count": 32,
   "id": "eac927e0",
   "metadata": {},
   "outputs": [
    {
     "data": {
      "text/plain": [
       "Ttest_indResult(statistic=-20.540200114797358, pvalue=3.9082343569370535e-52)"
      ]
     },
     "execution_count": 32,
     "metadata": {},
     "output_type": "execute_result"
    }
   ],
   "source": [
    "# correlation betwwen asthma percentage and respective gas pollutants.\n",
    "stats.ttest_ind(data['pm2_5'] , data['asthma_percentage']) "
   ]
  },
  {
   "cell_type": "code",
   "execution_count": 33,
   "id": "c7121ee6",
   "metadata": {},
   "outputs": [
    {
     "data": {
      "text/plain": [
       "Ttest_indResult(statistic=-8.069940362439308, pvalue=5.36265043071078e-14)"
      ]
     },
     "execution_count": 33,
     "metadata": {},
     "output_type": "execute_result"
    }
   ],
   "source": [
    "# correlation betwwen asthma percentage and respective gas pollutants.\n",
    "stats.ttest_ind(data['pm10'] , data['asthma_percentage']) "
   ]
  },
  {
   "cell_type": "code",
   "execution_count": 34,
   "id": "18e1d3a4",
   "metadata": {},
   "outputs": [
    {
     "data": {
      "text/plain": [
       "Ttest_indResult(statistic=-57.754710548802244, pvalue=7.395388653911764e-131)"
      ]
     },
     "execution_count": 34,
     "metadata": {},
     "output_type": "execute_result"
    }
   ],
   "source": [
    "# correlation betwwen asthma percentage and respective gas pollutants.\n",
    "stats.ttest_ind(data['nh3'] , data['asthma_percentage']) "
   ]
  },
  {
   "cell_type": "code",
   "execution_count": null,
   "id": "b9994d81",
   "metadata": {},
   "outputs": [],
   "source": []
  }
 ],
 "metadata": {
  "kernelspec": {
   "display_name": "Python 3 (ipykernel)",
   "language": "python",
   "name": "python3"
  },
  "language_info": {
   "codemirror_mode": {
    "name": "ipython",
    "version": 3
   },
   "file_extension": ".py",
   "mimetype": "text/x-python",
   "name": "python",
   "nbconvert_exporter": "python",
   "pygments_lexer": "ipython3",
   "version": "3.9.12"
  }
 },
 "nbformat": 4,
 "nbformat_minor": 5
}
